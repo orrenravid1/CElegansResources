{
 "cells": [
  {
   "cell_type": "code",
   "execution_count": 2,
   "id": "2982eec5",
   "metadata": {},
   "outputs": [],
   "source": [
    "from openaiclientwrapper import OpenAIClientWrapper, get_api_key"
   ]
  },
  {
   "cell_type": "code",
   "execution_count": 3,
   "id": "544a876e",
   "metadata": {},
   "outputs": [],
   "source": [
    "api_key = get_api_key()"
   ]
  },
  {
   "cell_type": "code",
   "execution_count": 8,
   "id": "69c855ee",
   "metadata": {},
   "outputs": [],
   "source": [
    "client_wrapper = OpenAIClientWrapper(api_key=api_key)\n",
    "client = client_wrapper.client"
   ]
  },
  {
   "cell_type": "code",
   "execution_count": 6,
   "id": "10fd89c4",
   "metadata": {},
   "outputs": [],
   "source": [
    "vector_store = client_wrapper.list_vector_stores()[0]"
   ]
  },
  {
   "cell_type": "code",
   "execution_count": 7,
   "id": "632e05e1",
   "metadata": {},
   "outputs": [
    {
     "data": {
      "text/plain": [
       "VectorStore(id='vs_68ce54bd3a2c8191910ae71c6200c1c8', created_at=1758352573, file_counts=FileCounts(cancelled=0, completed=105, failed=0, in_progress=0, total=105), last_active_at=1758354435, metadata={}, name='c_elegans_corpus_9_20_2025', object='vector_store', status='completed', usage_bytes=32378636, expires_after=None, expires_at=None, description=None)"
      ]
     },
     "execution_count": 7,
     "metadata": {},
     "output_type": "execute_result"
    }
   ],
   "source": [
    "vector_store"
   ]
  },
  {
   "cell_type": "code",
   "execution_count": null,
   "id": "28ee442f",
   "metadata": {},
   "outputs": [],
   "source": [
    "response = client.responses.create(\n",
    "    model=\"gpt-5-2025-08-07\",\n",
    "    reasoning={\"effort\" : \"medium\"}\n",
    "    input=\"What neurons would I expect to be involved in c elegans hermaphrodite mating behavior? Do any of them use dopamine or serotonin? What ion channels do they have? Is there anything else that makes them special?\",\n",
    "    tools=[{\n",
    "        \"type\": \"file_search\",\n",
    "        \"vector_store_ids\": [vector_store.id],\n",
    "    }]\n",
    ")\n",
    "print(response)"
   ]
  }
 ],
 "metadata": {
  "kernelspec": {
   "display_name": "Python 3",
   "language": "python",
   "name": "python3"
  },
  "language_info": {
   "codemirror_mode": {
    "name": "ipython",
    "version": 3
   },
   "file_extension": ".py",
   "mimetype": "text/x-python",
   "name": "python",
   "nbconvert_exporter": "python",
   "pygments_lexer": "ipython3",
   "version": "3.11.4"
  }
 },
 "nbformat": 4,
 "nbformat_minor": 5
}
