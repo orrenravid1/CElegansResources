{
 "cells": [
  {
   "cell_type": "code",
   "execution_count": 2,
   "id": "2982eec5",
   "metadata": {},
   "outputs": [],
   "source": [
    "from openaiclientwrapper import OpenAIClientWrapper, get_api_key"
   ]
  },
  {
   "cell_type": "code",
   "execution_count": 3,
   "id": "544a876e",
   "metadata": {},
   "outputs": [],
   "source": [
    "api_key = get_api_key()"
   ]
  },
  {
   "cell_type": "code",
   "execution_count": 8,
   "id": "69c855ee",
   "metadata": {},
   "outputs": [],
   "source": [
    "client_wrapper = OpenAIClientWrapper(api_key=api_key)\n",
    "client = client_wrapper.client"
   ]
  },
  {
   "cell_type": "code",
   "execution_count": 6,
   "id": "10fd89c4",
   "metadata": {},
   "outputs": [],
   "source": [
    "vector_store = client_wrapper.list_vector_stores()[0]"
   ]
  },
  {
   "cell_type": "code",
   "execution_count": 7,
   "id": "632e05e1",
   "metadata": {},
   "outputs": [
    {
     "data": {
      "text/plain": [
       "VectorStore(id='vs_68ce54bd3a2c8191910ae71c6200c1c8', created_at=1758352573, file_counts=FileCounts(cancelled=0, completed=105, failed=0, in_progress=0, total=105), last_active_at=1758354435, metadata={}, name='c_elegans_corpus_9_20_2025', object='vector_store', status='completed', usage_bytes=32378636, expires_after=None, expires_at=None, description=None)"
      ]
     },
     "execution_count": 7,
     "metadata": {},
     "output_type": "execute_result"
    }
   ],
   "source": [
    "vector_store"
   ]
  },
  {
   "cell_type": "code",
   "execution_count": 10,
   "id": "28ee442f",
   "metadata": {},
   "outputs": [],
   "source": [
    "response = client.responses.create(\n",
    "    model=\"gpt-5-2025-08-07\",\n",
    "    reasoning={\"effort\" : \"medium\"},\n",
    "    input=\"What neurons would I expect to be involved in c elegans hermaphrodite mating behavior? Do any of them use dopamine or serotonin? What ion channels do they have? Is there anything else that makes them special?\",\n",
    "    tools=[{\n",
    "        \"type\": \"file_search\",\n",
    "        \"vector_store_ids\": [vector_store.id],\n",
    "    }]\n",
    ")"
   ]
  },
  {
   "cell_type": "code",
   "execution_count": 11,
   "id": "35f09e74",
   "metadata": {},
   "outputs": [
    {
     "name": "stdout",
     "output_type": "stream",
     "text": [
      "Response(id='resp_68ce604dde0c819684caa7582403485a000e474b3a089dd3', created_at=1758355534.0, error=None, incomplete_details=None, instructions=None, metadata={}, model='gpt-5-2025-08-07', object='response', output=[ResponseReasoningItem(id='rs_68ce604ef4d88196a97e59f46c949a40000e474b3a089dd3', summary=[], type='reasoning', content=None, encrypted_content=None, status=None), ResponseFileSearchToolCall(id='fs_68ce60536b64819683c6f2930cd2651b000e474b3a089dd3', queries=['What neurons are involved in C. elegans hermaphrodite mating behavior?', 'C. elegans hermaphrodite neurons involved in mating, HSN VC serotonin dopamine ion channels', 'serotonin and dopamine in C. elegans mating behavior hermaphrodite vulval muscles HSN VC', 'C. elegans mating circuitry hermaphrodite role VC neurons HSN egg-laying during mating ion channels', 'C. elegans hermaphrodite receptivity mating neurons neurotransmitters channels'], status='completed', type='file_search_call', results=None), ResponseReasoningItem(id='rs_68ce6056b1188196aa76d17dc58a027c000e474b3a089dd3', summary=[], type='reasoning', content=None, encrypted_content=None, status=None), ResponseOutputMessage(id='msg_68ce608466308196b15740713f18b531000e474b3a089dd3', content=[ResponseOutputText(annotations=[AnnotationFileCitation(file_id='file-8zmrS2Hu2vuyW1xLJNW2Jw', filename='egglaying.pdf', index=349, type='file_citation'), AnnotationFileCitation(file_id='file-8zmrS2Hu2vuyW1xLJNW2Jw', filename='egglaying.pdf', index=832, type='file_citation'), AnnotationFileCitation(file_id='file-MuVKLiYNJoQRnrKFkC5srC', filename='monoamines.pdf', index=833, type='file_citation'), AnnotationFileCitation(file_id='file-9t3vp1CiyWcRJRHfKnoX2o', filename='c_elegans_ii.pdf', index=834, type='file_citation'), AnnotationFileCitation(file_id='file-2GnBNGzVRagEWFnMJ4VUCR', filename='neuronalgenome.pdf', index=1200, type='file_citation'), AnnotationFileCitation(file_id='file-2GnBNGzVRagEWFnMJ4VUCR', filename='neuronalgenome.pdf', index=1435, type='file_citation'), AnnotationFileCitation(file_id='file-P5UJX2ou3BRVA3a6bBfd3K', filename='malematingbehavior.pdf', index=1743, type='file_citation'), AnnotationFileCitation(file_id='file-8zmrS2Hu2vuyW1xLJNW2Jw', filename='egglaying.pdf', index=2131, type='file_citation'), AnnotationFileCitation(file_id='file-MuVKLiYNJoQRnrKFkC5srC', filename='monoamines.pdf', index=2132, type='file_citation'), AnnotationFileCitation(file_id='file-8zmrS2Hu2vuyW1xLJNW2Jw', filename='egglaying.pdf', index=2427, type='file_citation'), AnnotationFileCitation(file_id='file-7KeEFgfTtqKhoFsQDv47v7', filename='mechanosensation.pdf', index=2785, type='file_citation'), AnnotationFileCitation(file_id='file-8zmrS2Hu2vuyW1xLJNW2Jw', filename='egglaying.pdf', index=2786, type='file_citation'), AnnotationFileCitation(file_id='file-P5UJX2ou3BRVA3a6bBfd3K', filename='malematingbehavior.pdf', index=3160, type='file_citation'), AnnotationFileCitation(file_id='file-9t3vp1CiyWcRJRHfKnoX2o', filename='c_elegans_ii.pdf', index=3161, type='file_citation')], text='Short answer\\n- Key hermaphrodite neurons: the HSN pair and the six VC motor neurons that innervate the vulval muscles (vm1/vm2) and control the egg‑laying/vulval motor program engaged during copulation; VC4/5 sit next to the vulva and directly drive vulval muscles, while HSN coordinates this circuit with ongoing locomotion and other brain signals .\\n- Neurotransmitters: HSNs are serotonergic; VC neurons are cholinergic but also express the vesicular monoamine transporter and show weak serotonin staining, consistent with additional monoaminergic signaling in this circuit. Serotonin promotes vulval muscle Ca2+ activity but can autoinhibit HSN activity; dopamine primarily modulates general locomotion via CEP/ADE/PDE dopaminergic neurons in hermaphrodites (the strong, established role for dopamine in mating is male‑specific)   .\\n- Ion channels/receptors you should expect: \\n  - A rich complement of ligand‑gated ion channels, including nicotinic AChRs and GABA/glycine‑like Cys‑loop receptors; importantly, C. elegans also has ionotropic receptors gated by biogenic amines such as the serotonin‑gated Cl− channel MOD‑1, which mediate 5‑HT effects in the egg‑laying circuit and other behaviors .\\n  - C. elegans lacks classic voltage‑gated Na+ channels; fast electrical events rely heavily on voltage‑gated Ca2+ channels in neurons and muscles, with Ca2+‑dependent excitation shaping vulval muscle output during mating/egg‑laying .\\n  - The ERG‑like K+ channel UNC‑103, expressed in all cholinergic ventral cord neurons in both sexes (which includes VCs), acts as a brake on excitability; ERG‑K+ channel function times sex‑muscle contractions during mating and likely helps set excitability in the hermaphrodite egg‑laying circuit as well .\\n- Anything special about these neurons/circuit:\\n  - HSNs are hermaphrodite‑specific serotonergic motor neurons that both drive and gate the egg‑laying program while coordinating with locomotion; serotonin released by HSN stimulates clusters of vulval contractions but also feeds back to damp HSN activity via Go/GOA‑1, contributing to the episodic pattern of egg‑laying/receptive bouts  .\\n  - VCs are homologous to male CP motor neurons; unlike the male CPs (serotonergic), hermaphrodite VCs are cholinergic but appear to engage monoaminergic mechanisms via VMAT expression and 5‑HT uptake, suggesting mixed fast (ACh) and modulatory signaling onto the vulval muscles during mating .\\n\\nMore detail (if useful)\\n- Which neurons to watch during mating: HSN, VC4/5 (strongest vulval outputs), plus the command interneurons (AVA/AVB/AVD/PVC) that shape posture and movement of the hermaphrodite as she interacts with the male; these interneurons are the backbone of forward/backward movement and interface with the egg‑laying circuit through HSN  .\\n- Serotonin vs dopamine in mating contexts: serotonin has a direct, well‑documented role in the hermaphrodite vulval circuit; dopamine’s clear mating role comes from male rays/CP neurons (turning, timing), whereas in hermaphrodites dopamine neurons (CEP/ADE/PDE) broadly modulate locomotion and state, which can secondarily influence receptivity/posture during copulation  .\\n\\nIf you want, I can map these neurons/receptors/channels onto a simple “hermaphrodite during mating” circuit diagram for you.', type='output_text', logprobs=[])], role='assistant', status='completed', type='message')], parallel_tool_calls=True, temperature=1.0, tool_choice='auto', tools=[FileSearchTool(type='file_search', vector_store_ids=['vs_68ce54bd3a2c8191910ae71c6200c1c8'], filters=None, max_num_results=20, ranking_options=RankingOptions(ranker='auto', score_threshold=0.0))], top_p=1.0, background=False, conversation=None, max_output_tokens=None, max_tool_calls=None, previous_response_id=None, prompt=None, prompt_cache_key=None, reasoning=Reasoning(effort='medium', generate_summary=None, summary=None), safety_identifier=None, service_tier='default', status='completed', text=ResponseTextConfig(format=ResponseFormatText(type='text'), verbosity='medium'), top_logprobs=0, truncation='disabled', usage=ResponseUsage(input_tokens=19728, input_tokens_details=InputTokensDetails(cached_tokens=2432), output_tokens=4636, output_tokens_details=OutputTokensDetails(reasoning_tokens=3648), total_tokens=24364), user=None, billing={'payer': 'developer'}, store=True)\n"
     ]
    }
   ],
   "source": [
    "print(response)"
   ]
  },
  {
   "cell_type": "code",
   "execution_count": 12,
   "id": "ce45ca40",
   "metadata": {},
   "outputs": [
    {
     "name": "stdout",
     "output_type": "stream",
     "text": [
      "Short answer\n",
      "- Key hermaphrodite neurons: the HSN pair and the six VC motor neurons that innervate the vulval muscles (vm1/vm2) and control the egg‑laying/vulval motor program engaged during copulation; VC4/5 sit next to the vulva and directly drive vulval muscles, while HSN coordinates this circuit with ongoing locomotion and other brain signals .\n",
      "- Neurotransmitters: HSNs are serotonergic; VC neurons are cholinergic but also express the vesicular monoamine transporter and show weak serotonin staining, consistent with additional monoaminergic signaling in this circuit. Serotonin promotes vulval muscle Ca2+ activity but can autoinhibit HSN activity; dopamine primarily modulates general locomotion via CEP/ADE/PDE dopaminergic neurons in hermaphrodites (the strong, established role for dopamine in mating is male‑specific)   .\n",
      "- Ion channels/receptors you should expect: \n",
      "  - A rich complement of ligand‑gated ion channels, including nicotinic AChRs and GABA/glycine‑like Cys‑loop receptors; importantly, C. elegans also has ionotropic receptors gated by biogenic amines such as the serotonin‑gated Cl− channel MOD‑1, which mediate 5‑HT effects in the egg‑laying circuit and other behaviors .\n",
      "  - C. elegans lacks classic voltage‑gated Na+ channels; fast electrical events rely heavily on voltage‑gated Ca2+ channels in neurons and muscles, with Ca2+‑dependent excitation shaping vulval muscle output during mating/egg‑laying .\n",
      "  - The ERG‑like K+ channel UNC‑103, expressed in all cholinergic ventral cord neurons in both sexes (which includes VCs), acts as a brake on excitability; ERG‑K+ channel function times sex‑muscle contractions during mating and likely helps set excitability in the hermaphrodite egg‑laying circuit as well .\n",
      "- Anything special about these neurons/circuit:\n",
      "  - HSNs are hermaphrodite‑specific serotonergic motor neurons that both drive and gate the egg‑laying program while coordinating with locomotion; serotonin released by HSN stimulates clusters of vulval contractions but also feeds back to damp HSN activity via Go/GOA‑1, contributing to the episodic pattern of egg‑laying/receptive bouts  .\n",
      "  - VCs are homologous to male CP motor neurons; unlike the male CPs (serotonergic), hermaphrodite VCs are cholinergic but appear to engage monoaminergic mechanisms via VMAT expression and 5‑HT uptake, suggesting mixed fast (ACh) and modulatory signaling onto the vulval muscles during mating .\n",
      "\n",
      "More detail (if useful)\n",
      "- Which neurons to watch during mating: HSN, VC4/5 (strongest vulval outputs), plus the command interneurons (AVA/AVB/AVD/PVC) that shape posture and movement of the hermaphrodite as she interacts with the male; these interneurons are the backbone of forward/backward movement and interface with the egg‑laying circuit through HSN  .\n",
      "- Serotonin vs dopamine in mating contexts: serotonin has a direct, well‑documented role in the hermaphrodite vulval circuit; dopamine’s clear mating role comes from male rays/CP neurons (turning, timing), whereas in hermaphrodites dopamine neurons (CEP/ADE/PDE) broadly modulate locomotion and state, which can secondarily influence receptivity/posture during copulation  .\n",
      "\n",
      "If you want, I can map these neurons/receptors/channels onto a simple “hermaphrodite during mating” circuit diagram for you.\n"
     ]
    }
   ],
   "source": [
    "print(response.output_text)"
   ]
  },
  {
   "cell_type": "code",
   "execution_count": 13,
   "id": "5b6f074f",
   "metadata": {},
   "outputs": [
    {
     "name": "stdout",
     "output_type": "stream",
     "text": [
      "[ResponseReasoningItem(id='rs_68ce604ef4d88196a97e59f46c949a40000e474b3a089dd3', summary=[], type='reasoning', content=None, encrypted_content=None, status=None), ResponseFileSearchToolCall(id='fs_68ce60536b64819683c6f2930cd2651b000e474b3a089dd3', queries=['What neurons are involved in C. elegans hermaphrodite mating behavior?', 'C. elegans hermaphrodite neurons involved in mating, HSN VC serotonin dopamine ion channels', 'serotonin and dopamine in C. elegans mating behavior hermaphrodite vulval muscles HSN VC', 'C. elegans mating circuitry hermaphrodite role VC neurons HSN egg-laying during mating ion channels', 'C. elegans hermaphrodite receptivity mating neurons neurotransmitters channels'], status='completed', type='file_search_call', results=None), ResponseReasoningItem(id='rs_68ce6056b1188196aa76d17dc58a027c000e474b3a089dd3', summary=[], type='reasoning', content=None, encrypted_content=None, status=None), ResponseOutputMessage(id='msg_68ce608466308196b15740713f18b531000e474b3a089dd3', content=[ResponseOutputText(annotations=[AnnotationFileCitation(file_id='file-8zmrS2Hu2vuyW1xLJNW2Jw', filename='egglaying.pdf', index=349, type='file_citation'), AnnotationFileCitation(file_id='file-8zmrS2Hu2vuyW1xLJNW2Jw', filename='egglaying.pdf', index=832, type='file_citation'), AnnotationFileCitation(file_id='file-MuVKLiYNJoQRnrKFkC5srC', filename='monoamines.pdf', index=833, type='file_citation'), AnnotationFileCitation(file_id='file-9t3vp1CiyWcRJRHfKnoX2o', filename='c_elegans_ii.pdf', index=834, type='file_citation'), AnnotationFileCitation(file_id='file-2GnBNGzVRagEWFnMJ4VUCR', filename='neuronalgenome.pdf', index=1200, type='file_citation'), AnnotationFileCitation(file_id='file-2GnBNGzVRagEWFnMJ4VUCR', filename='neuronalgenome.pdf', index=1435, type='file_citation'), AnnotationFileCitation(file_id='file-P5UJX2ou3BRVA3a6bBfd3K', filename='malematingbehavior.pdf', index=1743, type='file_citation'), AnnotationFileCitation(file_id='file-8zmrS2Hu2vuyW1xLJNW2Jw', filename='egglaying.pdf', index=2131, type='file_citation'), AnnotationFileCitation(file_id='file-MuVKLiYNJoQRnrKFkC5srC', filename='monoamines.pdf', index=2132, type='file_citation'), AnnotationFileCitation(file_id='file-8zmrS2Hu2vuyW1xLJNW2Jw', filename='egglaying.pdf', index=2427, type='file_citation'), AnnotationFileCitation(file_id='file-7KeEFgfTtqKhoFsQDv47v7', filename='mechanosensation.pdf', index=2785, type='file_citation'), AnnotationFileCitation(file_id='file-8zmrS2Hu2vuyW1xLJNW2Jw', filename='egglaying.pdf', index=2786, type='file_citation'), AnnotationFileCitation(file_id='file-P5UJX2ou3BRVA3a6bBfd3K', filename='malematingbehavior.pdf', index=3160, type='file_citation'), AnnotationFileCitation(file_id='file-9t3vp1CiyWcRJRHfKnoX2o', filename='c_elegans_ii.pdf', index=3161, type='file_citation')], text='Short answer\\n- Key hermaphrodite neurons: the HSN pair and the six VC motor neurons that innervate the vulval muscles (vm1/vm2) and control the egg‑laying/vulval motor program engaged during copulation; VC4/5 sit next to the vulva and directly drive vulval muscles, while HSN coordinates this circuit with ongoing locomotion and other brain signals .\\n- Neurotransmitters: HSNs are serotonergic; VC neurons are cholinergic but also express the vesicular monoamine transporter and show weak serotonin staining, consistent with additional monoaminergic signaling in this circuit. Serotonin promotes vulval muscle Ca2+ activity but can autoinhibit HSN activity; dopamine primarily modulates general locomotion via CEP/ADE/PDE dopaminergic neurons in hermaphrodites (the strong, established role for dopamine in mating is male‑specific)   .\\n- Ion channels/receptors you should expect: \\n  - A rich complement of ligand‑gated ion channels, including nicotinic AChRs and GABA/glycine‑like Cys‑loop receptors; importantly, C. elegans also has ionotropic receptors gated by biogenic amines such as the serotonin‑gated Cl− channel MOD‑1, which mediate 5‑HT effects in the egg‑laying circuit and other behaviors .\\n  - C. elegans lacks classic voltage‑gated Na+ channels; fast electrical events rely heavily on voltage‑gated Ca2+ channels in neurons and muscles, with Ca2+‑dependent excitation shaping vulval muscle output during mating/egg‑laying .\\n  - The ERG‑like K+ channel UNC‑103, expressed in all cholinergic ventral cord neurons in both sexes (which includes VCs), acts as a brake on excitability; ERG‑K+ channel function times sex‑muscle contractions during mating and likely helps set excitability in the hermaphrodite egg‑laying circuit as well .\\n- Anything special about these neurons/circuit:\\n  - HSNs are hermaphrodite‑specific serotonergic motor neurons that both drive and gate the egg‑laying program while coordinating with locomotion; serotonin released by HSN stimulates clusters of vulval contractions but also feeds back to damp HSN activity via Go/GOA‑1, contributing to the episodic pattern of egg‑laying/receptive bouts  .\\n  - VCs are homologous to male CP motor neurons; unlike the male CPs (serotonergic), hermaphrodite VCs are cholinergic but appear to engage monoaminergic mechanisms via VMAT expression and 5‑HT uptake, suggesting mixed fast (ACh) and modulatory signaling onto the vulval muscles during mating .\\n\\nMore detail (if useful)\\n- Which neurons to watch during mating: HSN, VC4/5 (strongest vulval outputs), plus the command interneurons (AVA/AVB/AVD/PVC) that shape posture and movement of the hermaphrodite as she interacts with the male; these interneurons are the backbone of forward/backward movement and interface with the egg‑laying circuit through HSN  .\\n- Serotonin vs dopamine in mating contexts: serotonin has a direct, well‑documented role in the hermaphrodite vulval circuit; dopamine’s clear mating role comes from male rays/CP neurons (turning, timing), whereas in hermaphrodites dopamine neurons (CEP/ADE/PDE) broadly modulate locomotion and state, which can secondarily influence receptivity/posture during copulation  .\\n\\nIf you want, I can map these neurons/receptors/channels onto a simple “hermaphrodite during mating” circuit diagram for you.', type='output_text', logprobs=[])], role='assistant', status='completed', type='message')]\n"
     ]
    }
   ],
   "source": [
    "print(response.output)"
   ]
  },
  {
   "cell_type": "code",
   "execution_count": null,
   "id": "d068b479",
   "metadata": {},
   "outputs": [],
   "source": []
  }
 ],
 "metadata": {
  "kernelspec": {
   "display_name": "Python 3",
   "language": "python",
   "name": "python3"
  },
  "language_info": {
   "codemirror_mode": {
    "name": "ipython",
    "version": 3
   },
   "file_extension": ".py",
   "mimetype": "text/x-python",
   "name": "python",
   "nbconvert_exporter": "python",
   "pygments_lexer": "ipython3",
   "version": "3.11.4"
  }
 },
 "nbformat": 4,
 "nbformat_minor": 5
}
